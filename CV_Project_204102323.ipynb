{
 "cells": [
  {
   "cell_type": "markdown",
   "source": [
    "# **Computer Vision mini project**\n",
    "\n",
    "\n",
    "\n",
    "Name: \n",
    "      \n",
    "\n",
    "*   **Dheeraj Kumar Bharti (Roll no. 204102303)**\n",
    "*   **Ajay Gautam   (Roll no.204102323)**\n",
    "\n"
   ],
   "metadata": {
    "id": "ah6XysvFjxlp"
   }
  },
  {
   "cell_type": "markdown",
   "source": [
    "**Image inpainting**\n",
    "image imapainting is technique that use to reconstruct the original image from distorted image.distortion of image can be line ,can be sketch on image."
   ],
   "metadata": {
    "id": "hE7qibmUh-IP"
   }
  },
  {
   "cell_type": "markdown",
   "source": [
    "in this project we will use open cv library. first we will create distortion to image using mouse then we will try to recover image from distorted image.\n",
    "in this project we r using two algorithm \n",
    "1.fmm algo\n",
    "2.ns algo\n",
    "\n",
    "*    Fast Marching Method\n",
    "* NS method\n",
    "\n"
   ],
   "metadata": {
    "id": "x02c2f_XjGI4"
   }
  },
  {
   "cell_type": "markdown",
   "source": [
    "importing usable library"
   ],
   "metadata": {
    "id": "Ys4RdQVP28zT"
   }
  },
  {
   "cell_type": "code",
   "execution_count": 3,
   "source": [
    "import numpy as np\r\n",
    "import cv2 as cv\r\n",
    "import sys\r\n",
    "import matplotlib.pyplot as plt\r\n",
    "from skimage import data\r\n",
    "from skimage.io import imread\r\n"
   ],
   "outputs": [],
   "metadata": {
    "id": "ljZLSrPwjE4R"
   }
  },
  {
   "cell_type": "code",
   "execution_count": 4,
   "source": [
    "\"\"\"creating mause handling class which will be using for \r\n",
    "creating live distortion on image.\r\n",
    "in this class we will create constructor that will be usefull for\r\n",
    "showing our image.\r\n",
    "\"\"\" \r\n",
    "\r\n",
    "# OpenCV Utility Class for Mouse Handling\r\n",
    "class Sketcher:\r\n",
    "    def __init__(self, wind_name, destorted_set, colors_func):\r\n",
    "        self.preserved_pt = None\r\n",
    "        self.wind_name= wind_name\r\n",
    "        self.destorted_set=destorted_set\r\n",
    "        self.colors_func= colors_func\r\n",
    "        self.dirty = False \r\n",
    "        self.show()\r\n",
    "        cv.setMouseCallback(self.wind_name, self.mouse_handling)\r\n",
    "\r\n",
    "    def show(self):\r\n",
    "        cv.imshow(self.wind_name, self.destorted_set[0])\r\n",
    "        cv.imshow(self.wind_name + \": mask\", self.destorted_set[1])\r\n",
    "\r\n",
    "    # onMouse function for Mouse Handling\r\n",
    "    def mouse_handling(self, event, x_cor, y_cor, flags, parameters):\r\n",
    "        points = (x_cor, y_cor)\r\n",
    "        if event == cv.EVENT_LBUTTONDOWN:\r\n",
    "            self.preserved_pt = points\r\n",
    "        elif event == cv.EVENT_LBUTTONUP:\r\n",
    "            self.preserved_pt = None\r\n",
    "\r\n",
    "        if self.preserved_pt and flags & cv.EVENT_FLAG_LBUTTON:\r\n",
    "            for dst, color in zip(self.destorted_set, self.colors_func()):\r\n",
    "                cv.line(dst, self.preserved_pt, points, color, 5)\r\n",
    "            self.dirty = True\r\n",
    "            self.preserved_pt = points\r\n",
    "            self.show()\r\n",
    "\"\"\"\r\n",
    "now we will creat main function\r\n",
    "key: we have two algorithm  \r\n",
    "1.NS algorithm\r\n",
    "1. FMM algorithm(fast marching method)\r\n",
    " if we press key \"t\" then NS algorith will run\r\n",
    " and if we press key \"N\" then FMM algorithm will run.\r\n",
    " if we press key \"r\" then impaint mask will reset.\r\n",
    " if we press key \"ESC\" then our program will be reset\r\n",
    "\"\"\"\r\n",
    "\r\n",
    "def main():\r\n",
    "\r\n",
    "    print(\"Usage: python inpaint <image_path>\")\r\n",
    "    print(\"Keys: \")\r\n",
    "    print(\"press 't' for FMM\")\r\n",
    "    print(\"press 'n' for NS technique\")\r\n",
    "    print(\"press 'r' for reset the inpainting mask\")\r\n",
    "    print(\"press 'ESC' for  - exit\")\r\n",
    "\r\n",
    "    # Read image in color mode\r\n",
    " \r\n",
    "    #in_img = cv.imread('/content/ground_truith.jpg', cv.IMREAD_COLOR)# IMREAD_COLOR is flag value that use for in which mode u want to read image\r\n",
    "    in_img= data.camera() \r\n",
    "    \"\"\" sometime our system does not read image \"\"\"\r\n",
    "    # If image is not read properly, return error\r\n",
    "    if in_img is None:\r\n",
    "        print('Failed to load image file: {}'.format(in_img))\r\n",
    "        return\r\n",
    "    \"\"\"now wew will creat mask on our original image. we will use copy function that\r\n",
    "     is able to make the copy of image.\r\n",
    "    \"\"\"\r\n",
    "    # Create a copy of original image\r\n",
    "    masked_im = in_img.copy()\r\n",
    "    # Create a black copy of original image\r\n",
    "    # Acts as a mask\r\n",
    "    inpainted_Mask = np.zeros(in_img.shape[:2], np.uint8)# it will create black image of original image size\r\n",
    "    # Create sketch using OpenCV Utility Class: Sketcher\r\n",
    "    sketch = Sketcher('image', [masked_im, inpainted_Mask], lambda : ((255, 255, 255), 255))\r\n",
    "    \"\"\" now we will use key under infinite loop, that will\r\n",
    "    use key for image impainting algorithm\r\n",
    "    \"\"\"\r\n",
    "    while True:\r\n",
    "        ch = cv.waitKey()\r\n",
    "        if ch == 27: # 27 is ascii code for \"ESC\" key\r\n",
    "            break\r\n",
    "        if ch == ord('t'):\r\n",
    "            # Use Algorithm proposed by Alexendra Telea: Fast Marching Method \r\n",
    "            res = cv.inpaint(src=masked_im, inpaintMask=inpainted_Mask, inpaintRadius=3, flags=cv.INPAINT_TELEA)#INPAINT_TELEA is name of fast marching method\r\n",
    "            cv.imshow('Inpaint Output using FMM', res)\r\n",
    "        if ch == ord('n'):\r\n",
    "            # Use Algorithm proposed by Bertalmio, Marcelo, Andrea L. Bertozzi, and Guillermo Sapiro: Navier-Stokes, Fluid Dynamics, and Image and Video Inpainting (2001)\r\n",
    "            res = cv.inpaint(src=masked_im, inpaintMask=inpainted_Mask, inpaintRadius=3, flags=cv.INPAINT_NS)\r\n",
    "            cv.imshow('Inpaint Output using NS Technique', res)\r\n",
    "        if ch == ord('r'):\r\n",
    "            masked_im[:] = in_img\r\n",
    "            inpainted_Mask[:] = 0\r\n",
    "            sketch.show()\r\n",
    "\r\n",
    "    print('Completed')\r\n",
    "\r\n",
    "\r\n",
    "if __name__ == '__main__':\r\n",
    "    main()\r\n",
    "    cv.destroyAllWindows()"
   ],
   "outputs": [
    {
     "output_type": "stream",
     "name": "stdout",
     "text": [
      "Usage: python inpaint <image_path>\n",
      "Keys: \n",
      "press 't' for FMM\n",
      "press 'n' for NS technique\n",
      "press 'r' for reset the inpainting mask\n",
      "press 'ESC' for  - exit\n",
      "Completed\n"
     ]
    }
   ],
   "metadata": {
    "colab": {
     "base_uri": "https://localhost:8080/",
     "height": 518
    },
    "id": "sebNdzOuh7J-",
    "outputId": "26fa5c05-8a60-4033-a0ba-741838454a0f",
    "scrolled": true
   }
  },
  {
   "cell_type": "code",
   "execution_count": null,
   "source": [],
   "outputs": [],
   "metadata": {}
  },
  {
   "cell_type": "code",
   "execution_count": null,
   "source": [],
   "outputs": [],
   "metadata": {}
  }
 ],
 "metadata": {
  "colab": {
   "name": "cv_.ipynb",
   "provenance": []
  },
  "kernelspec": {
   "name": "python3",
   "display_name": "Python 3.8.3 64-bit"
  },
  "language_info": {
   "codemirror_mode": {
    "name": "ipython",
    "version": 3
   },
   "file_extension": ".py",
   "mimetype": "text/x-python",
   "name": "python",
   "nbconvert_exporter": "python",
   "pygments_lexer": "ipython3",
   "version": "3.8.3"
  },
  "interpreter": {
   "hash": "c75fa04065bf541777c18f506c00a8dd8d4ffdea5636388e33e40cb21bd8380c"
  }
 },
 "nbformat": 4,
 "nbformat_minor": 1
}